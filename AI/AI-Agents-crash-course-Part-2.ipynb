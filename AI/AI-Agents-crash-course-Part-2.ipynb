{
 "cells": [
  {
   "cell_type": "markdown",
   "metadata": {},
   "source": [
    "Create a .env file and add the following:\n",
    "\n",
    "OPENAI_API_KEY=\"sk-...\" [optional since you can also use Ollama]\n",
    "\n",
    "EXCHANGE_RATE_API_KEY=\"...\""
   ]
  },
  {
   "cell_type": "code",
   "execution_count": 1,
   "metadata": {},
   "outputs": [
    {
     "data": {
      "text/plain": [
       "True"
      ]
     },
     "execution_count": 1,
     "metadata": {},
     "output_type": "execute_result"
    }
   ],
   "source": [
    "from dotenv import load_dotenv\n",
    "\n",
    "import os\n",
    "import requests\n",
    "from typing import Type\n",
    "from crewai.tools import BaseTool\n",
    "from crewai import Agent, Task, Crew, Process\n",
    "\n",
    "from pydantic import BaseModel, Field\n",
    "load_dotenv()"
   ]
  },
  {
   "cell_type": "code",
   "execution_count": 2,
   "metadata": {},
   "outputs": [],
   "source": [
    "from crewai import LLM \n",
    "llm = LLM(\n",
    "    model=\"gpt-4o-mini\",\n",
    ")"
   ]
  },
  {
   "cell_type": "code",
   "execution_count": null,
   "metadata": {},
   "outputs": [],
   "source": [
    "# from crewai import LLM \n",
    "\n",
    "# llm = LLM(\n",
    "#     model=\"ollama/llama3.2:1b\",\n",
    "#     base_url=\"http://localhost:11434\"\n",
    "# )"
   ]
  },
  {
   "cell_type": "code",
   "execution_count": 3,
   "metadata": {},
   "outputs": [],
   "source": [
    "# Define the Currency Converter Tool\n",
    "class CurrencyConverterInput(BaseModel):\n",
    "    \"\"\"Input schema for CurrencyConverterTool.\"\"\"\n",
    "    amount: float = Field(..., description=\"The amount to convert.\")\n",
    "    from_currency: str = Field(..., description=\"The source currency code (e.g., 'USD').\")\n",
    "    to_currency: str = Field(..., description=\"The target currency code (e.g., 'EUR').\")\n",
    "\n",
    "class CurrencyConverterTool(BaseTool):\n",
    "    name: str = \"Currency Converter Tool\"\n",
    "    description: str = \"Converts an amount from one currency to another using live exchange rates.\"\n",
    "    args_schema: Type[BaseModel] = CurrencyConverterInput\n",
    "    api_key: str = os.getenv(\"EXCHANGE_RATE_API_KEY\")  # Store API Key as an environment variable\n",
    "\n",
    "    def _run(self, amount: float, from_currency: str, to_currency: str) -> str:\n",
    "        url = f\"https://v6.exchangerate-api.com/v6/{self.api_key}/latest/{from_currency}\"\n",
    "        response = requests.get(url)\n",
    "        if response.status_code != 200:\n",
    "            return \"Failed to fetch exchange rates.\"\n",
    "\n",
    "        data = response.json()\n",
    "        if \"conversion_rates\" not in data or to_currency not in data[\"conversion_rates\"]:\n",
    "            return f\"Invalid currency code: {to_currency}\"\n",
    "\n",
    "        rate = data[\"conversion_rates\"][to_currency]\n",
    "        converted_amount = amount * rate\n",
    "        return f\"{amount} {from_currency} is equivalent to {converted_amount:.2f} {to_currency}.\"\n"
   ]
  },
  {
   "cell_type": "code",
   "execution_count": 4,
   "metadata": {},
   "outputs": [],
   "source": [
    "# query analyst agent that outputs a structured response\n",
    "\n",
    "query_analyst = Agent(\n",
    "    role=\"Query Analyst\",\n",
    "    goal=\"Analyze the user's query and output a structured response containing the amount, from_currency, and to_currency. The query is: '{query}'.\",\n",
    "    backstory=(\n",
    "        \"You are a language understanding expert with background in finance.\"\n",
    "        \"You understand the user's natural language query and output a structured response containing the amount, from_currency, and to_currency.\"\n",
    "    ),\n",
    "    verbose=True\n",
    ")\n",
    "\n",
    "query_task = Task(\n",
    "    description=\"Understand the user's natural language query and extract the total amount, source currency, and target currency. The query is: '{query}'.\",\n",
    "    expected_output=\"A structured response to the user's query.\",\n",
    "    agent=query_analyst,\n",
    "    output_pydantic=CurrencyConverterInput,\n",
    ")"
   ]
  },
  {
   "cell_type": "code",
   "execution_count": 5,
   "metadata": {},
   "outputs": [],
   "source": [
    "\n",
    "# Define the Agent\n",
    "currency_analyst = Agent(\n",
    "    role=\"Currency Analyst\",\n",
    "    goal=\"Provide real-time currency conversions and financial insights.\",\n",
    "    backstory=(\n",
    "        \"You are a finance expert with deep knowledge of global exchange rates.\"\n",
    "        \"You help users with currency conversion and financial decision-making.\"\n",
    "    ),\n",
    "    tools=[CurrencyConverterTool()],\n",
    "    verbose=True\n",
    ")\n",
    "\n",
    "# Define a Task\n",
    "currency_conversion_task = Task(\n",
    "    description=(\n",
    "        \"Accept the output from the query analyst agent and convert the amount using real-time exchange rates.\"\n",
    "        \"The input will contain the amount, from_currency, and to_currency.\"\n",
    "        \"Provide the equivalent amount and explain any relevant financial context.\"\n",
    "    ),\n",
    "    expected_output=\"A detailed response including the converted amount and financial insights.\",\n",
    "    agent=currency_analyst\n",
    ")"
   ]
  },
  {
   "cell_type": "code",
   "execution_count": 6,
   "metadata": {},
   "outputs": [
    {
     "name": "stdout",
     "output_type": "stream",
     "text": [
      "\u001b[1m\u001b[95m# Agent:\u001b[00m \u001b[1m\u001b[92mQuery Analyst\u001b[00m\n",
      "\u001b[95m## Task:\u001b[00m \u001b[92mUnderstand the user's natural language query and extract the total amount, source currency, and target currency. The query is: 'How much is 100 USD in EUR?'.\u001b[00m\n",
      "\n",
      "\n",
      "\u001b[1m\u001b[95m# Agent:\u001b[00m \u001b[1m\u001b[92mQuery Analyst\u001b[00m\n",
      "\u001b[95m## Final Answer:\u001b[00m \u001b[92m\n",
      "{\n",
      "  \"amount\": 100,\n",
      "  \"from_currency\": \"USD\",\n",
      "  \"to_currency\": \"EUR\"\n",
      "}\u001b[00m\n",
      "\n",
      "\n",
      "\u001b[1m\u001b[95m# Agent:\u001b[00m \u001b[1m\u001b[92mCurrency Analyst\u001b[00m\n",
      "\u001b[95m## Task:\u001b[00m \u001b[92mAccept the output from the query analyst agent and convert the amount using real-time exchange rates.The input will contain the amount, from_currency, and to_currency.Provide the equivalent amount and explain any relevant financial context.\u001b[00m\n",
      "\n",
      "\n",
      "\u001b[1m\u001b[95m# Agent:\u001b[00m \u001b[1m\u001b[92mCurrency Analyst\u001b[00m\n",
      "\u001b[95m## Using tool:\u001b[00m \u001b[92mCurrency Converter Tool\u001b[00m\n",
      "\u001b[95m## Tool Input:\u001b[00m \u001b[92m\n",
      "\"{\\\"amount\\\": 100, \\\"from_currency\\\": \\\"USD\\\", \\\"to_currency\\\": \\\"EUR\\\"}\"\u001b[00m\n",
      "\u001b[95m## Tool Output:\u001b[00m \u001b[92m\n",
      "100.0 USD is equivalent to 95.96 EUR.\u001b[00m\n",
      "\n",
      "\n",
      "\u001b[1m\u001b[95m# Agent:\u001b[00m \u001b[1m\u001b[92mCurrency Analyst\u001b[00m\n",
      "\u001b[95m## Final Answer:\u001b[00m \u001b[92m\n",
      "100 USD is equivalent to 95.96 EUR based on real-time exchange rates. \n",
      "\n",
      "In a financial context, this conversion is significant as it shows the current strength of the Euro compared to the US Dollar. If you're planning to travel to Europe or invest in Euro-denominated assets, understanding this exchange rate helps in making informed financial decisions. Additionally, exchange rates can fluctuate due to various factors including economic indicators, interest rates, and geopolitical events, which makes it crucial to keep track of them if you are dealing with international transactions.\n",
      "```\u001b[00m\n",
      "\n",
      "\n"
     ]
    }
   ],
   "source": [
    "\n",
    "# Form the Crew\n",
    "crew = Crew(\n",
    "    agents=[query_analyst, currency_analyst],\n",
    "    tasks=[query_task, currency_conversion_task],\n",
    "    process=Process.sequential\n",
    ")\n",
    "\n",
    "response = crew.kickoff(inputs={\"query\": \"How much is 100 USD in EUR?\"})"
   ]
  },
  {
   "cell_type": "code",
   "execution_count": 7,
   "metadata": {},
   "outputs": [
    {
     "data": {
      "text/markdown": [
       "100 USD is equivalent to 95.96 EUR based on real-time exchange rates. \n",
       "\n",
       "In a financial context, this conversion is significant as it shows the current strength of the Euro compared to the US Dollar. If you're planning to travel to Europe or invest in Euro-denominated assets, understanding this exchange rate helps in making informed financial decisions. Additionally, exchange rates can fluctuate due to various factors including economic indicators, interest rates, and geopolitical events, which makes it crucial to keep track of them if you are dealing with international transactions.\n",
       "```"
      ],
      "text/plain": [
       "<IPython.core.display.Markdown object>"
      ]
     },
     "execution_count": 7,
     "metadata": {},
     "output_type": "execute_result"
    }
   ],
   "source": [
    "from IPython.display import Markdown\n",
    "Markdown(response.raw)"
   ]
  }
 ],
 "metadata": {
  "kernelspec": {
   "display_name": "base",
   "language": "python",
   "name": "python3"
  },
  "language_info": {
   "codemirror_mode": {
    "name": "ipython",
    "version": 3
   },
   "file_extension": ".py",
   "mimetype": "text/x-python",
   "name": "python",
   "nbconvert_exporter": "python",
   "pygments_lexer": "ipython3",
   "version": "3.12.2"
  }
 },
 "nbformat": 4,
 "nbformat_minor": 2
}
